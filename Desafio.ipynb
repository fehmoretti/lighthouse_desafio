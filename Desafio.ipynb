{
 "cells": [
  {
   "cell_type": "markdown",
   "id": "6b554080",
   "metadata": {},
   "source": [
    "## Importar bibliotecas necessárias\n",
    "#### Bibliotecas utilizadas: pandas,  numpy, matplotlib, seaborn pickle"
   ]
  },
  {
   "cell_type": "code",
   "execution_count": 50,
   "id": "9fbc4a4a-f4a6-4d07-a6e9-be7fa3b6a60c",
   "metadata": {},
   "outputs": [],
   "source": [
    "import pandas as pd\n",
    "import numpy as np\n",
    "import matplotlib.pyplot as plt\n",
    "import seaborn as snsS\n",
    "from sklearn.model_selection import train_test_split\n",
    "from sklearn.linear_model import LinearRegression\n",
    "from sklearn.metrics import mean_absolute_error, mean_squared_error, root_mean_squared_error\n",
    "import pickle"
   ]
  },
  {
   "cell_type": "markdown",
   "id": "0eb245f2",
   "metadata": {},
   "source": [
    "## Carregar o dataset"
   ]
  },
  {
   "cell_type": "code",
   "execution_count": 28,
   "id": "9e52eb70-4bca-43d0-9a1c-19865823a098",
   "metadata": {},
   "outputs": [],
   "source": [
    "data = pd.read_csv(\"teste_indicium_precificacao.csv\")"
   ]
  },
  {
   "cell_type": "markdown",
   "id": "440585ce",
   "metadata": {},
   "source": [
    "## Etapa 1: Análise Exploratória de Dados (EDA)\n",
    "#### Visualizar as primeiras linhas do dataset"
   ]
  },
  {
   "cell_type": "code",
   "execution_count": 29,
   "id": "c403531e-d83b-4225-b66e-c15817a9856e",
   "metadata": {},
   "outputs": [
    {
     "name": "stdout",
     "output_type": "stream",
     "text": [
      "     id                                              nome  host_id  \\\n",
      "0  2595                             Skylit Midtown Castle     2845   \n",
      "1  3647               THE VILLAGE OF HARLEM....NEW YORK !     4632   \n",
      "2  3831                   Cozy Entire Floor of Brownstone     4869   \n",
      "3  5022  Entire Apt: Spacious Studio/Loft by central park     7192   \n",
      "4  5099         Large Cozy 1 BR Apartment In Midtown East     7322   \n",
      "\n",
      "     host_name bairro_group        bairro  latitude  longitude  \\\n",
      "0     Jennifer    Manhattan       Midtown  40.75362  -73.98377   \n",
      "1    Elisabeth    Manhattan        Harlem  40.80902  -73.94190   \n",
      "2  LisaRoxanne     Brooklyn  Clinton Hill  40.68514  -73.95976   \n",
      "3        Laura    Manhattan   East Harlem  40.79851  -73.94399   \n",
      "4        Chris    Manhattan   Murray Hill  40.74767  -73.97500   \n",
      "\n",
      "         room_type  price  minimo_noites  numero_de_reviews ultima_review  \\\n",
      "0  Entire home/apt    225              1                 45    2019-05-21   \n",
      "1     Private room    150              3                  0           NaN   \n",
      "2  Entire home/apt     89              1                270    2019-07-05   \n",
      "3  Entire home/apt     80             10                  9    2018-11-19   \n",
      "4  Entire home/apt    200              3                 74    2019-06-22   \n",
      "\n",
      "   reviews_por_mes  calculado_host_listings_count  disponibilidade_365  \n",
      "0             0.38                              2                  355  \n",
      "1              NaN                              1                  365  \n",
      "2             4.64                              1                  194  \n",
      "3             0.10                              1                    0  \n",
      "4             0.59                              1                  129  \n"
     ]
    }
   ],
   "source": [
    "print(data.head())"
   ]
  },
  {
   "cell_type": "markdown",
   "id": "a5bcadd3",
   "metadata": {},
   "source": [
    "#### Informações gerais sobre o dataset"
   ]
  },
  {
   "cell_type": "code",
   "execution_count": 30,
   "id": "728cf40a-f59f-4141-87b1-1be431877fd1",
   "metadata": {},
   "outputs": [
    {
     "name": "stdout",
     "output_type": "stream",
     "text": [
      "<class 'pandas.core.frame.DataFrame'>\n",
      "RangeIndex: 48894 entries, 0 to 48893\n",
      "Data columns (total 16 columns):\n",
      " #   Column                         Non-Null Count  Dtype  \n",
      "---  ------                         --------------  -----  \n",
      " 0   id                             48894 non-null  int64  \n",
      " 1   nome                           48878 non-null  object \n",
      " 2   host_id                        48894 non-null  int64  \n",
      " 3   host_name                      48873 non-null  object \n",
      " 4   bairro_group                   48894 non-null  object \n",
      " 5   bairro                         48894 non-null  object \n",
      " 6   latitude                       48894 non-null  float64\n",
      " 7   longitude                      48894 non-null  float64\n",
      " 8   room_type                      48894 non-null  object \n",
      " 9   price                          48894 non-null  int64  \n",
      " 10  minimo_noites                  48894 non-null  int64  \n",
      " 11  numero_de_reviews              48894 non-null  int64  \n",
      " 12  ultima_review                  38842 non-null  object \n",
      " 13  reviews_por_mes                38842 non-null  float64\n",
      " 14  calculado_host_listings_count  48894 non-null  int64  \n",
      " 15  disponibilidade_365            48894 non-null  int64  \n",
      "dtypes: float64(3), int64(7), object(6)\n",
      "memory usage: 6.0+ MB\n",
      "None\n"
     ]
    }
   ],
   "source": [
    "print(data.info())"
   ]
  },
  {
   "cell_type": "markdown",
   "id": "2e992529",
   "metadata": {},
   "source": [
    "#### Estatísticas descritivas"
   ]
  },
  {
   "cell_type": "code",
   "execution_count": 31,
   "id": "41d48cee-1199-4a44-ba17-45943c1dc031",
   "metadata": {},
   "outputs": [
    {
     "name": "stdout",
     "output_type": "stream",
     "text": [
      "                 id       host_id      latitude     longitude         price  \\\n",
      "count  4.889400e+04  4.889400e+04  48894.000000  48894.000000  48894.000000   \n",
      "mean   1.901753e+07  6.762139e+07     40.728951    -73.952169    152.720763   \n",
      "std    1.098288e+07  7.861118e+07      0.054529      0.046157    240.156625   \n",
      "min    2.595000e+03  2.438000e+03     40.499790    -74.244420      0.000000   \n",
      "25%    9.472371e+06  7.822737e+06     40.690100    -73.983070     69.000000   \n",
      "50%    1.967743e+07  3.079553e+07     40.723075    -73.955680    106.000000   \n",
      "75%    2.915225e+07  1.074344e+08     40.763117    -73.936273    175.000000   \n",
      "max    3.648724e+07  2.743213e+08     40.913060    -73.712990  10000.000000   \n",
      "\n",
      "       minimo_noites  numero_de_reviews  reviews_por_mes  \\\n",
      "count   48894.000000       48894.000000     38842.000000   \n",
      "mean        7.030085          23.274758         1.373251   \n",
      "std        20.510741          44.550991         1.680453   \n",
      "min         1.000000           0.000000         0.010000   \n",
      "25%         1.000000           1.000000         0.190000   \n",
      "50%         3.000000           5.000000         0.720000   \n",
      "75%         5.000000          24.000000         2.020000   \n",
      "max      1250.000000         629.000000        58.500000   \n",
      "\n",
      "       calculado_host_listings_count  disponibilidade_365  \n",
      "count                   48894.000000         48894.000000  \n",
      "mean                        7.144005           112.776169  \n",
      "std                        32.952855           131.618692  \n",
      "min                         1.000000             0.000000  \n",
      "25%                         1.000000             0.000000  \n",
      "50%                         1.000000            45.000000  \n",
      "75%                         2.000000           227.000000  \n",
      "max                       327.000000           365.000000  \n"
     ]
    }
   ],
   "source": [
    "print(data.describe())"
   ]
  },
  {
   "cell_type": "markdown",
   "id": "fe5b56b9",
   "metadata": {},
   "source": [
    "#### Verificar valores ausentes"
   ]
  },
  {
   "cell_type": "code",
   "execution_count": 32,
   "id": "f94f69d5-7b55-4ea5-bf97-ec9b6d0387bd",
   "metadata": {},
   "outputs": [
    {
     "name": "stdout",
     "output_type": "stream",
     "text": [
      "id                                   0\n",
      "nome                                16\n",
      "host_id                              0\n",
      "host_name                           21\n",
      "bairro_group                         0\n",
      "bairro                               0\n",
      "latitude                             0\n",
      "longitude                            0\n",
      "room_type                            0\n",
      "price                                0\n",
      "minimo_noites                        0\n",
      "numero_de_reviews                    0\n",
      "ultima_review                    10052\n",
      "reviews_por_mes                  10052\n",
      "calculado_host_listings_count        0\n",
      "disponibilidade_365                  0\n",
      "dtype: int64\n"
     ]
    }
   ],
   "source": [
    "print(data.isnull().sum())"
   ]
  },
  {
   "cell_type": "markdown",
   "id": "60d2f1fb",
   "metadata": {},
   "source": [
    "#### Substituir valores ausentes em 'reviews_por_mes' por 0"
   ]
  },
  {
   "cell_type": "code",
   "execution_count": 33,
   "id": "bfe4b5ac-e5fe-4e6f-8299-6707eb3b842a",
   "metadata": {},
   "outputs": [],
   "source": [
    "data['reviews_por_mes'] = data['reviews_por_mes'].fillna(0)"
   ]
  },
  {
   "cell_type": "markdown",
   "id": "949506fe",
   "metadata": {},
   "source": [
    "#### Remover colunas irrelevantes para o modelo"
   ]
  },
  {
   "cell_type": "code",
   "execution_count": 34,
   "id": "d2618048-0edc-408a-94f0-1512adabc888",
   "metadata": {},
   "outputs": [],
   "source": [
    "data.drop(columns=['id', 'nome', 'host_id', 'host_name', 'ultima_review'], inplace=True)"
   ]
  },
  {
   "cell_type": "markdown",
   "id": "28dde4d1",
   "metadata": {},
   "source": [
    "#### Gráficos exploratórios"
   ]
  },
  {
   "cell_type": "code",
   "execution_count": 35,
   "id": "bd716e94-7392-469f-b1fb-0e4adc0fa5e8",
   "metadata": {},
   "outputs": [
    {
     "data": {
      "image/png": "[encoded data removed]",
      "text/plain": [
       "<Figure size 640x480 with 1 Axes>"
      ]
     },
     "metadata": {},
     "output_type": "display_data"
    }
   ],
   "source": [
    "sns.boxplot(x='bairro_group', y='price', data=data)\n",
    "plt.title('Distribuição de Preços por Região')\n",
    "plt.show()\n"
   ]
  },
  {
   "cell_type": "markdown",
   "id": "4b349f83",
   "metadata": {},
   "source": [
    "#### Matriz de Correlação"
   ]
  },
  {
   "cell_type": "code",
   "execution_count": 36,
   "id": "63570b0e-46c5-4a0b-8eae-1e9cbfa976a9",
   "metadata": {},
   "outputs": [
    {
     "data": {
      "image/png": "[encoded data removed]",
      "text/plain": [
       "<Figure size 640x480 with 2 Axes>"
      ]
     },
     "metadata": {},
     "output_type": "display_data"
    }
   ],
   "source": [
    "# Selecionar apenas as colunas numéricas\n",
    "numeric_data = data.select_dtypes(include=['number'])\n",
    "\n",
    "# Calcular a matriz de correlação\n",
    "correlation_matrix = numeric_data.corr()\n",
    "\n",
    "# Criar o heatmap\n",
    "sns.heatmap(correlation_matrix, annot=True, cmap='coolwarm')\n",
    "plt.title('Matriz de Correlação')\n",
    "plt.show()"
   ]
  },
  {
   "cell_type": "markdown",
   "id": "9a9645bc",
   "metadata": {},
   "source": [
    "## Etapa 2: Preparação dos Dados"
   ]
  },
  {
   "cell_type": "markdown",
   "id": "b781d60f",
   "metadata": {},
   "source": [
    "#### Remover outliers nos preços"
   ]
  },
  {
   "cell_type": "code",
   "execution_count": 37,
   "id": "276dc8c0-0c42-4f42-9a1b-e1ae8dfe22e1",
   "metadata": {},
   "outputs": [],
   "source": [
    "data = data[data['price'] <= data['price'].quantile(0.95)]"
   ]
  },
  {
   "cell_type": "markdown",
   "id": "a45fbbc4",
   "metadata": {},
   "source": [
    "#### Converter variáveis categóricas para numéricas"
   ]
  },
  {
   "cell_type": "code",
   "execution_count": 38,
   "id": "2ca675be-c60f-4ba5-b8f2-4ccddfa2219d",
   "metadata": {},
   "outputs": [],
   "source": [
    "data = pd.get_dummies(data, columns=['bairro_group', 'bairro', 'room_type'], drop_first=True)"
   ]
  },
  {
   "cell_type": "markdown",
   "id": "8e92dc22",
   "metadata": {},
   "source": [
    "#### Definir features e target"
   ]
  },
  {
   "cell_type": "code",
   "execution_count": 39,
   "id": "a68fe4c4-e657-40e7-8de2-21bee31f9036",
   "metadata": {},
   "outputs": [],
   "source": [
    "X = data.drop(columns=['price'])\n",
    "y = data['price']"
   ]
  },
  {
   "cell_type": "markdown",
   "id": "ac5ede1f",
   "metadata": {},
   "source": [
    "#### Dividir em conjuntos de treino e teste"
   ]
  },
  {
   "cell_type": "code",
   "execution_count": 40,
   "id": "ea575d39-7ebb-4191-9a5d-bb3fe18689b2",
   "metadata": {},
   "outputs": [],
   "source": [
    "X_train, X_test, y_train, y_test = train_test_split(X, y, test_size=0.2, random_state=42)"
   ]
  },
  {
   "cell_type": "markdown",
   "id": "928dc4c9",
   "metadata": {},
   "source": [
    "## Etapa 3: Modelagem Preditiva"
   ]
  },
  {
   "cell_type": "markdown",
   "id": "6fbdc37d",
   "metadata": {},
   "source": [
    "#### Instanciar o modelo"
   ]
  },
  {
   "cell_type": "code",
   "execution_count": 41,
   "id": "b9baa788-88a1-46fd-8058-76075d42a464",
   "metadata": {},
   "outputs": [],
   "source": [
    "model = LinearRegression()"
   ]
  },
  {
   "cell_type": "markdown",
   "id": "5d8d7db1",
   "metadata": {},
   "source": [
    "#### Treinar o modelo"
   ]
  },
  {
   "cell_type": "code",
   "execution_count": 42,
   "id": "c880d647-058b-4abf-a3d3-33851ca32f0f",
   "metadata": {},
   "outputs": [
    {
     "data": {
      "text/html": [
       "<style>#sk-container-id-2 {\n",
       "  /* Definition of color scheme common for light and dark mode */\n",
       "  --sklearn-color-text: black;\n",
       "  --sklearn-color-line: gray;\n",
       "  /* Definition of color scheme for unfitted estimators */\n",
       "  --sklearn-color-unfitted-level-0: #fff5e6;\n",
       "  --sklearn-color-unfitted-level-1: #f6e4d2;\n",
       "  --sklearn-color-unfitted-level-2: #ffe0b3;\n",
       "  --sklearn-color-unfitted-level-3: chocolate;\n",
       "  /* Definition of color scheme for fitted estimators */\n",
       "  --sklearn-color-fitted-level-0: #f0f8ff;\n",
       "  --sklearn-color-fitted-level-1: #d4ebff;\n",
       "  --sklearn-color-fitted-level-2: #b3dbfd;\n",
       "  --sklearn-color-fitted-level-3: cornflowerblue;\n",
       "\n",
       "  /* Specific color for light theme */\n",
       "  --sklearn-color-text-on-default-background: var(--sg-text-color, var(--theme-code-foreground, var(--jp-content-font-color1, black)));\n",
       "  --sklearn-color-background: var(--sg-background-color, var(--theme-background, var(--jp-layout-color0, white)));\n",
       "  --sklearn-color-border-box: var(--sg-text-color, var(--theme-code-foreground, var(--jp-content-font-color1, black)));\n",
       "  --sklearn-color-icon: #696969;\n",
       "\n",
       "  @media (prefers-color-scheme: dark) {\n",
       "    /* Redefinition of color scheme for dark theme */\n",
       "    --sklearn-color-text-on-default-background: var(--sg-text-color, var(--theme-code-foreground, var(--jp-content-font-color1, white)));\n",
       "    --sklearn-color-background: var(--sg-background-color, var(--theme-background, var(--jp-layout-color0, #111)));\n",
       "    --sklearn-color-border-box: var(--sg-text-color, var(--theme-code-foreground, var(--jp-content-font-color1, white)));\n",
       "    --sklearn-color-icon: #878787;\n",
       "  }\n",
       "}\n",
       "\n",
       "#sk-container-id-2 {\n",
       "  color: var(--sklearn-color-text);\n",
       "}\n",
       "\n",
       "#sk-container-id-2 pre {\n",
       "  padding: 0;\n",
       "}\n",
       "\n",
       "#sk-container-id-2 input.sk-hidden--visually {\n",
       "  border: 0;\n",
       "  clip: rect(1px 1px 1px 1px);\n",
       "  clip: rect(1px, 1px, 1px, 1px);\n",
       "  height: 1px;\n",
       "  margin: -1px;\n",
       "  overflow: hidden;\n",
       "  padding: 0;\n",
       "  position: absolute;\n",
       "  width: 1px;\n",
       "}\n",
       "\n",
       "#sk-container-id-2 div.sk-dashed-wrapped {\n",
       "  border: 1px dashed var(--sklearn-color-line);\n",
       "  margin: 0 0.4em 0.5em 0.4em;\n",
       "  box-sizing: border-box;\n",
       "  padding-bottom: 0.4em;\n",
       "  background-color: var(--sklearn-color-background);\n",
       "}\n",
       "\n",
       "#sk-container-id-2 div.sk-container {\n",
       "  /* jupyter's `normalize.less` sets `[hidden] { display: none; }`\n",
       "     but bootstrap.min.css set `[hidden] { display: none !important; }`\n",
       "     so we also need the `!important` here to be able to override the\n",
       "     default hidden behavior on the sphinx rendered scikit-learn.org.\n",
       "     See: https://github.com/scikit-learn/scikit-learn/issues/21755 */\n",
       "  display: inline-block !important;\n",
       "  position: relative;\n",
       "}\n",
       "\n",
       "#sk-container-id-2 div.sk-text-repr-fallback {\n",
       "  display: none;\n",
       "}\n",
       "\n",
       "div.sk-parallel-item,\n",
       "div.sk-serial,\n",
       "div.sk-item {\n",
       "  /* draw centered vertical line to link estimators */\n",
       "  background-image: linear-gradient(var(--sklearn-color-text-on-default-background), var(--sklearn-color-text-on-default-background));\n",
       "  background-size: 2px 100%;\n",
       "  background-repeat: no-repeat;\n",
       "  background-position: center center;\n",
       "}\n",
       "\n",
       "/* Parallel-specific style estimator block */\n",
       "\n",
       "#sk-container-id-2 div.sk-parallel-item::after {\n",
       "  content: \"\";\n",
       "  width: 100%;\n",
       "  border-bottom: 2px solid var(--sklearn-color-text-on-default-background);\n",
       "  flex-grow: 1;\n",
       "}\n",
       "\n",
       "#sk-container-id-2 div.sk-parallel {\n",
       "  display: flex;\n",
       "  align-items: stretch;\n",
       "  justify-content: center;\n",
       "  background-color: var(--sklearn-color-background);\n",
       "  position: relative;\n",
       "}\n",
       "\n",
       "#sk-container-id-2 div.sk-parallel-item {\n",
       "  display: flex;\n",
       "  flex-direction: column;\n",
       "}\n",
       "\n",
       "#sk-container-id-2 div.sk-parallel-item:first-child::after {\n",
       "  align-self: flex-end;\n",
       "  width: 50%;\n",
       "}\n",
       "\n",
       "#sk-container-id-2 div.sk-parallel-item:last-child::after {\n",
       "  align-self: flex-start;\n",
       "  width: 50%;\n",
       "}\n",
       "\n",
       "#sk-container-id-2 div.sk-parallel-item:only-child::after {\n",
       "  width: 0;\n",
       "}\n",
       "\n",
       "/* Serial-specific style estimator block */\n",
       "\n",
       "#sk-container-id-2 div.sk-serial {\n",
       "  display: flex;\n",
       "  flex-direction: column;\n",
       "  align-items: center;\n",
       "  background-color: var(--sklearn-color-background);\n",
       "  padding-right: 1em;\n",
       "  padding-left: 1em;\n",
       "}\n",
       "\n",
       "\n",
       "/* Toggleable style: style used for estimator/Pipeline/ColumnTransformer box that is\n",
       "clickable and can be expanded/collapsed.\n",
       "- Pipeline and ColumnTransformer use this feature and define the default style\n",
       "- Estimators will overwrite some part of the style using the `sk-estimator` class\n",
       "*/\n",
       "\n",
       "/* Pipeline and ColumnTransformer style (default) */\n",
       "\n",
       "#sk-container-id-2 div.sk-toggleable {\n",
       "  /* Default theme specific background. It is overwritten whether we have a\n",
       "  specific estimator or a Pipeline/ColumnTransformer */\n",
       "  background-color: var(--sklearn-color-background);\n",
       "}\n",
       "\n",
       "/* Toggleable label */\n",
       "#sk-container-id-2 label.sk-toggleable__label {\n",
       "  cursor: pointer;\n",
       "  display: block;\n",
       "  width: 100%;\n",
       "  margin-bottom: 0;\n",
       "  padding: 0.5em;\n",
       "  box-sizing: border-box;\n",
       "  text-align: center;\n",
       "}\n",
       "\n",
       "#sk-container-id-2 label.sk-toggleable__label-arrow:before {\n",
       "  /* Arrow on the left of the label */\n",
       "  content: \"▸\";\n",
       "  float: left;\n",
       "  margin-right: 0.25em;\n",
       "  color: var(--sklearn-color-icon);\n",
       "}\n",
       "\n",
       "#sk-container-id-2 label.sk-toggleable__label-arrow:hover:before {\n",
       "  color: var(--sklearn-color-text);\n",
       "}\n",
       "\n",
       "/* Toggleable content - dropdown */\n",
       "\n",
       "#sk-container-id-2 div.sk-toggleable__content {\n",
       "  max-height: 0;\n",
       "  max-width: 0;\n",
       "  overflow: hidden;\n",
       "  text-align: left;\n",
       "  /* unfitted */\n",
       "  background-color: var(--sklearn-color-unfitted-level-0);\n",
       "}\n",
       "\n",
       "#sk-container-id-2 div.sk-toggleable__content.fitted {\n",
       "  /* fitted */\n",
       "  background-color: var(--sklearn-color-fitted-level-0);\n",
       "}\n",
       "\n",
       "#sk-container-id-2 div.sk-toggleable__content pre {\n",
       "  margin: 0.2em;\n",
       "  border-radius: 0.25em;\n",
       "  color: var(--sklearn-color-text);\n",
       "  /* unfitted */\n",
       "  background-color: var(--sklearn-color-unfitted-level-0);\n",
       "}\n",
       "\n",
       "#sk-container-id-2 div.sk-toggleable__content.fitted pre {\n",
       "  /* unfitted */\n",
       "  background-color: var(--sklearn-color-fitted-level-0);\n",
       "}\n",
       "\n",
       "#sk-container-id-2 input.sk-toggleable__control:checked~div.sk-toggleable__content {\n",
       "  /* Expand drop-down */\n",
       "  max-height: 200px;\n",
       "  max-width: 100%;\n",
       "  overflow: auto;\n",
       "}\n",
       "\n",
       "#sk-container-id-2 input.sk-toggleable__control:checked~label.sk-toggleable__label-arrow:before {\n",
       "  content: \"▾\";\n",
       "}\n",
       "\n",
       "/* Pipeline/ColumnTransformer-specific style */\n",
       "\n",
       "#sk-container-id-2 div.sk-label input.sk-toggleable__control:checked~label.sk-toggleable__label {\n",
       "  color: var(--sklearn-color-text);\n",
       "  background-color: var(--sklearn-color-unfitted-level-2);\n",
       "}\n",
       "\n",
       "#sk-container-id-2 div.sk-label.fitted input.sk-toggleable__control:checked~label.sk-toggleable__label {\n",
       "  background-color: var(--sklearn-color-fitted-level-2);\n",
       "}\n",
       "\n",
       "/* Estimator-specific style */\n",
       "\n",
       "/* Colorize estimator box */\n",
       "#sk-container-id-2 div.sk-estimator input.sk-toggleable__control:checked~label.sk-toggleable__label {\n",
       "  /* unfitted */\n",
       "  background-color: var(--sklearn-color-unfitted-level-2);\n",
       "}\n",
       "\n",
       "#sk-container-id-2 div.sk-estimator.fitted input.sk-toggleable__control:checked~label.sk-toggleable__label {\n",
       "  /* fitted */\n",
       "  background-color: var(--sklearn-color-fitted-level-2);\n",
       "}\n",
       "\n",
       "#sk-container-id-2 div.sk-label label.sk-toggleable__label,\n",
       "#sk-container-id-2 div.sk-label label {\n",
       "  /* The background is the default theme color */\n",
       "  color: var(--sklearn-color-text-on-default-background);\n",
       "}\n",
       "\n",
       "/* On hover, darken the color of the background */\n",
       "#sk-container-id-2 div.sk-label:hover label.sk-toggleable__label {\n",
       "  color: var(--sklearn-color-text);\n",
       "  background-color: var(--sklearn-color-unfitted-level-2);\n",
       "}\n",
       "\n",
       "/* Label box, darken color on hover, fitted */\n",
       "#sk-container-id-2 div.sk-label.fitted:hover label.sk-toggleable__label.fitted {\n",
       "  color: var(--sklearn-color-text);\n",
       "  background-color: var(--sklearn-color-fitted-level-2);\n",
       "}\n",
       "\n",
       "/* Estimator label */\n",
       "\n",
       "#sk-container-id-2 div.sk-label label {\n",
       "  font-family: monospace;\n",
       "  font-weight: bold;\n",
       "  display: inline-block;\n",
       "  line-height: 1.2em;\n",
       "}\n",
       "\n",
       "#sk-container-id-2 div.sk-label-container {\n",
       "  text-align: center;\n",
       "}\n",
       "\n",
       "/* Estimator-specific */\n",
       "#sk-container-id-2 div.sk-estimator {\n",
       "  font-family: monospace;\n",
       "  border: 1px dotted var(--sklearn-color-border-box);\n",
       "  border-radius: 0.25em;\n",
       "  box-sizing: border-box;\n",
       "  margin-bottom: 0.5em;\n",
       "  /* unfitted */\n",
       "  background-color: var(--sklearn-color-unfitted-level-0);\n",
       "}\n",
       "\n",
       "#sk-container-id-2 div.sk-estimator.fitted {\n",
       "  /* fitted */\n",
       "  background-color: var(--sklearn-color-fitted-level-0);\n",
       "}\n",
       "\n",
       "/* on hover */\n",
       "#sk-container-id-2 div.sk-estimator:hover {\n",
       "  /* unfitted */\n",
       "  background-color: var(--sklearn-color-unfitted-level-2);\n",
       "}\n",
       "\n",
       "#sk-container-id-2 div.sk-estimator.fitted:hover {\n",
       "  /* fitted */\n",
       "  background-color: var(--sklearn-color-fitted-level-2);\n",
       "}\n",
       "\n",
       "/* Specification for estimator info (e.g. \"i\" and \"?\") */\n",
       "\n",
       "/* Common style for \"i\" and \"?\" */\n",
       "\n",
       ".sk-estimator-doc-link,\n",
       "a:link.sk-estimator-doc-link,\n",
       "a:visited.sk-estimator-doc-link {\n",
       "  float: right;\n",
       "  font-size: smaller;\n",
       "  line-height: 1em;\n",
       "  font-family: monospace;\n",
       "  background-color: var(--sklearn-color-background);\n",
       "  border-radius: 1em;\n",
       "  height: 1em;\n",
       "  width: 1em;\n",
       "  text-decoration: none !important;\n",
       "  margin-left: 1ex;\n",
       "  /* unfitted */\n",
       "  border: var(--sklearn-color-unfitted-level-1) 1pt solid;\n",
       "  color: var(--sklearn-color-unfitted-level-1);\n",
       "}\n",
       "\n",
       ".sk-estimator-doc-link.fitted,\n",
       "a:link.sk-estimator-doc-link.fitted,\n",
       "a:visited.sk-estimator-doc-link.fitted {\n",
       "  /* fitted */\n",
       "  border: var(--sklearn-color-fitted-level-1) 1pt solid;\n",
       "  color: var(--sklearn-color-fitted-level-1);\n",
       "}\n",
       "\n",
       "/* On hover */\n",
       "div.sk-estimator:hover .sk-estimator-doc-link:hover,\n",
       ".sk-estimator-doc-link:hover,\n",
       "div.sk-label-container:hover .sk-estimator-doc-link:hover,\n",
       ".sk-estimator-doc-link:hover {\n",
       "  /* unfitted */\n",
       "  background-color: var(--sklearn-color-unfitted-level-3);\n",
       "  color: var(--sklearn-color-background);\n",
       "  text-decoration: none;\n",
       "}\n",
       "\n",
       "div.sk-estimator.fitted:hover .sk-estimator-doc-link.fitted:hover,\n",
       ".sk-estimator-doc-link.fitted:hover,\n",
       "div.sk-label-container:hover .sk-estimator-doc-link.fitted:hover,\n",
       ".sk-estimator-doc-link.fitted:hover {\n",
       "  /* fitted */\n",
       "  background-color: var(--sklearn-color-fitted-level-3);\n",
       "  color: var(--sklearn-color-background);\n",
       "  text-decoration: none;\n",
       "}\n",
       "\n",
       "/* Span, style for the box shown on hovering the info icon */\n",
       ".sk-estimator-doc-link span {\n",
       "  display: none;\n",
       "  z-index: 9999;\n",
       "  position: relative;\n",
       "  font-weight: normal;\n",
       "  right: .2ex;\n",
       "  padding: .5ex;\n",
       "  margin: .5ex;\n",
       "  width: min-content;\n",
       "  min-width: 20ex;\n",
       "  max-width: 50ex;\n",
       "  color: var(--sklearn-color-text);\n",
       "  box-shadow: 2pt 2pt 4pt #999;\n",
       "  /* unfitted */\n",
       "  background: var(--sklearn-color-unfitted-level-0);\n",
       "  border: .5pt solid var(--sklearn-color-unfitted-level-3);\n",
       "}\n",
       "\n",
       ".sk-estimator-doc-link.fitted span {\n",
       "  /* fitted */\n",
       "  background: var(--sklearn-color-fitted-level-0);\n",
       "  border: var(--sklearn-color-fitted-level-3);\n",
       "}\n",
       "\n",
       ".sk-estimator-doc-link:hover span {\n",
       "  display: block;\n",
       "}\n",
       "\n",
       "/* \"?\"-specific style due to the `<a>` HTML tag */\n",
       "\n",
       "#sk-container-id-2 a.estimator_doc_link {\n",
       "  float: right;\n",
       "  font-size: 1rem;\n",
       "  line-height: 1em;\n",
       "  font-family: monospace;\n",
       "  background-color: var(--sklearn-color-background);\n",
       "  border-radius: 1rem;\n",
       "  height: 1rem;\n",
       "  width: 1rem;\n",
       "  text-decoration: none;\n",
       "  /* unfitted */\n",
       "  color: var(--sklearn-color-unfitted-level-1);\n",
       "  border: var(--sklearn-color-unfitted-level-1) 1pt solid;\n",
       "}\n",
       "\n",
       "#sk-container-id-2 a.estimator_doc_link.fitted {\n",
       "  /* fitted */\n",
       "  border: var(--sklearn-color-fitted-level-1) 1pt solid;\n",
       "  color: var(--sklearn-color-fitted-level-1);\n",
       "}\n",
       "\n",
       "/* On hover */\n",
       "#sk-container-id-2 a.estimator_doc_link:hover {\n",
       "  /* unfitted */\n",
       "  background-color: var(--sklearn-color-unfitted-level-3);\n",
       "  color: var(--sklearn-color-background);\n",
       "  text-decoration: none;\n",
       "}\n",
       "\n",
       "#sk-container-id-2 a.estimator_doc_link.fitted:hover {\n",
       "  /* fitted */\n",
       "  background-color: var(--sklearn-color-fitted-level-3);\n",
       "}\n",
       "</style><div id=\"sk-container-id-2\" class=\"sk-top-container\"><div class=\"sk-text-repr-fallback\"><pre>LinearRegression()</pre><b>In a Jupyter environment, please rerun this cell to show the HTML representation or trust the notebook. <br />On GitHub, the HTML representation is unable to render, please try loading this page with nbviewer.org.</b></div><div class=\"sk-container\" hidden><div class=\"sk-item\"><div class=\"sk-estimator fitted sk-toggleable\"><input class=\"sk-toggleable__control sk-hidden--visually\" id=\"sk-estimator-id-2\" type=\"checkbox\" checked><label for=\"sk-estimator-id-2\" class=\"sk-toggleable__label fitted sk-toggleable__label-arrow fitted\">&nbsp;&nbsp;LinearRegression<a class=\"sk-estimator-doc-link fitted\" rel=\"noreferrer\" target=\"_blank\" href=\"https://scikit-learn.org/1.5/modules/generated/sklearn.linear_model.LinearRegression.html\">?<span>Documentation for LinearRegression</span></a><span class=\"sk-estimator-doc-link fitted\">i<span>Fitted</span></span></label><div class=\"sk-toggleable__content fitted\"><pre>LinearRegression()</pre></div> </div></div></div></div>"
      ],
      "text/plain": [
       "LinearRegression()"
      ]
     },
     "execution_count": 42,
     "metadata": {},
     "output_type": "execute_result"
    }
   ],
   "source": [
    "model.fit(X_train, y_train)"
   ]
  },
  {
   "cell_type": "markdown",
   "id": "05a74343",
   "metadata": {},
   "source": [
    "#### Fazer previsões"
   ]
  },
  {
   "cell_type": "code",
   "execution_count": 43,
   "id": "c9094ae4-ff8a-4c15-b087-0da22e22a43f",
   "metadata": {},
   "outputs": [],
   "source": [
    "y_pred = model.predict(X_test)"
   ]
  },
  {
   "cell_type": "markdown",
   "id": "47c6d235",
   "metadata": {},
   "source": [
    "#### Calculando MAE e RMSE"
   ]
  },
  {
   "cell_type": "code",
   "execution_count": 44,
   "id": "33e50109-a12a-45bb-9d95-c7620a23e81f",
   "metadata": {},
   "outputs": [
    {
     "name": "stdout",
     "output_type": "stream",
     "text": [
      "MAE: 2115754.75\n",
      "RMSE: 144202911.46\n"
     ]
    }
   ],
   "source": [
    "# Calcular MAE\n",
    "mae = mean_absolute_error(y_test, y_pred)\n",
    "\n",
    "# Calcular RMSE usando a função específica\n",
    "rmse = root_mean_squared_error(y_test, y_pred)\n",
    "\n",
    "# Exibir resultados\n",
    "print(f\"MAE: {mae:.2f}\")\n",
    "print(f\"RMSE: {rmse:.2f}\")"
   ]
  },
  {
   "cell_type": "markdown",
   "id": "fd22d349",
   "metadata": {},
   "source": [
    "## Etapa 4: Previsão de Preço"
   ]
  },
  {
   "cell_type": "markdown",
   "id": "6d3dd472",
   "metadata": {},
   "source": [
    "#### Criando DataFrame para o novo apartamento"
   ]
  },
  {
   "cell_type": "code",
   "execution_count": 45,
   "id": "0bb172cc-f366-4707-97f4-cc8a6e573283",
   "metadata": {},
   "outputs": [
    {
     "name": "stdout",
     "output_type": "stream",
     "text": [
      "Preço sugerido ($): 228.83\n"
     ]
    }
   ],
   "source": [
    "novo_apartamento = {\n",
    "    'latitude': 40.75362,\n",
    "    'longitude': -73.98377,\n",
    "    'minimo_noites': 1,\n",
    "    'numero_de_reviews': 45,\n",
    "    'reviews_por_mes': 0.38,\n",
    "    'calculado_host_listings_count': 2,\n",
    "    'disponibilidade_365': 355,\n",
    "    'bairro_group': 'Manhattan',\n",
    "    'bairro': 'Midtown',\n",
    "    'room_type': 'Entire home/apt'\n",
    "}\n",
    "\n",
    "novo_apartamento_df = pd.DataFrame([novo_apartamento])\n",
    "\n",
    "# Aplicar as mesmas transformações do pré-processamento\n",
    "novo_apartamento_df = pd.get_dummies(novo_apartamento_df, columns=['bairro_group', 'bairro', 'room_type'])\n",
    "\n",
    "# Reindexar para alinhar com as colunas do conjunto de treinamento\n",
    "novo_apartamento_df = novo_apartamento_df.reindex(columns=X_train.columns, fill_value=0)\n",
    "\n",
    "# Fazer a previsão\n",
    "preco_previsto = model.predict(novo_apartamento_df)\n",
    "print(\"Preço sugerido ($):\", round(preco_previsto[0], 2))\n",
    "\n"
   ]
  },
  {
   "cell_type": "markdown",
   "id": "f5b7a2ce",
   "metadata": {},
   "source": [
    "## Etapa 5: Exportar o Modelo"
   ]
  },
  {
   "cell_type": "markdown",
   "id": "e54fba8e",
   "metadata": {},
   "source": [
    "#### Salvando o modelo em formato .pkl"
   ]
  },
  {
   "cell_type": "code",
   "execution_count": 46,
   "id": "0d9b18b7-2195-43f2-b7ae-c66f973b3c03",
   "metadata": {},
   "outputs": [
    {
     "name": "stdout",
     "output_type": "stream",
     "text": [
      "Modelo salvo como 'modelo_precificacao.pkl'\n"
     ]
    }
   ],
   "source": [
    "with open('modelo_precificacao.pkl', 'wb') as file:\n",
    "    pickle.dump(model, file)\n",
    "\n",
    "print(\"Modelo salvo como 'modelo_precificacao.pkl'\")"
   ]
  },
  {
   "cell_type": "markdown",
   "id": "ae07b135",
   "metadata": {},
   "source": [
    "## Etapa 6: Executando o Modelo"
   ]
  },
  {
   "cell_type": "markdown",
   "id": "8045b7b9",
   "metadata": {},
   "source": [
    "#### Carregando o Arquivo do moledo exportado anteriormente"
   ]
  },
  {
   "cell_type": "code",
   "execution_count": 47,
   "id": "1e7377ce-2cde-4ccf-85fc-3da5a303bdf0",
   "metadata": {},
   "outputs": [],
   "source": [
    "with open('modelo_precificacao.pkl', 'rb') as file:\n",
    "    loaded_model = pickle.load(file)"
   ]
  },
  {
   "cell_type": "markdown",
   "id": "068697be",
   "metadata": {},
   "source": [
    "#### Colocando os dados para entrada no modelo"
   ]
  },
  {
   "cell_type": "code",
   "execution_count": 48,
   "id": "7d0ea502-fc1a-498c-b95c-197c9dd28515",
   "metadata": {},
   "outputs": [],
   "source": [
    "# Exemplo de entrada\n",
    "novo_apartamento = {\n",
    "    'latitude': 20.75362,\n",
    "    'longitude': -73.98377,\n",
    "    'minimo_noites': 1,\n",
    "    'numero_de_reviews': 45,\n",
    "    'reviews_por_mes': 0.38,\n",
    "    'calculado_host_listings_count': 2,\n",
    "    'disponibilidade_365': 355,\n",
    "    'bairro_group': 'Manhattan',\n",
    "    'bairro': 'Midtown',\n",
    "    'room_type': 'Entire home/apt'\n",
    "}\n",
    "\n",
    "# Transformar em DataFrame\n",
    "novo_apartamento_df = pd.DataFrame([novo_apartamento])\n",
    "\n",
    "# Aplicar transformações (exemplo: get_dummies)\n",
    "novo_apartamento_df = pd.get_dummies(novo_apartamento_df, columns=['bairro_group', 'bairro', 'room_type'])\n",
    "novo_apartamento_df = novo_apartamento_df.reindex(columns=X_train.columns, fill_value=0)\n"
   ]
  },
  {
   "cell_type": "markdown",
   "id": "8508ab02",
   "metadata": {},
   "source": [
    "#### Executando a previsão"
   ]
  },
  {
   "cell_type": "code",
   "execution_count": 49,
   "id": "42937a22-aaa8-444f-9699-63bba3e963af",
   "metadata": {},
   "outputs": [
    {
     "name": "stdout",
     "output_type": "stream",
     "text": [
      "Preço sugerido ($): 2161.76\n"
     ]
    }
   ],
   "source": [
    "# Fazer a previsão\n",
    "preco_previsto = loaded_model.predict(novo_apartamento_df)\n",
    "print(\"Preço sugerido ($):\", round(preco_previsto[0], 2))"
   ]
  }
 ],
 "metadata": {
  "kernelspec": {
   "display_name": "base",
   "language": "python",
   "name": "python3"
  },
  "language_info": {
   "codemirror_mode": {
    "name": "ipython",
    "version": 3
   },
   "file_extension": ".py",
   "mimetype": "text/x-python",
   "name": "python",
   "nbconvert_exporter": "python",
   "pygments_lexer": "ipython3",
   "version": "3.12.7"
  }
 },
 "nbformat": 4,
 "nbformat_minor": 5
}
